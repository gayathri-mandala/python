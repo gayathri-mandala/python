{
 "cells": [
  {
   "cell_type": "markdown",
   "metadata": {},
   "source": [
    "## Example\n",
    "#### Functional Programming\n",
    "\n",
    "Find the factors of given number"
   ]
  },
  {
   "cell_type": "code",
   "execution_count": 2,
   "metadata": {},
   "outputs": [
    {
     "name": "stdout",
     "output_type": "stream",
     "text": [
      "1 2 3 4 6 12 "
     ]
    }
   ],
   "source": [
    "def factors(n):\n",
    "    i=1\n",
    "    while(i<=n):\n",
    "        if(n%i==0):\n",
    "            print(i,end=\" \")\n",
    "        i=i+1\n",
    "    return\n",
    "factors(12)"
   ]
  },
  {
   "cell_type": "markdown",
   "metadata": {},
   "source": [
    "### List in Python\n",
    "\n",
    "list can be written in python with square brackets and each item in the list sepereted by comma operation \n",
    "\n",
    "list can be anything -- int,char,float,string\n",
    "\n",
    "#### Examples of list\n",
    "\n",
    "list1 = [1,2,3]<br>\n",
    "list2 =[\"a\",\"b\",\"c\"]<br>"
   ]
  },
  {
   "cell_type": "code",
   "execution_count": 5,
   "metadata": {},
   "outputs": [
    {
     "name": "stdout",
     "output_type": "stream",
     "text": [
      "[1, 2, 3, 4]\n",
      "1\n"
     ]
    }
   ],
   "source": [
    "list1=[1,2,3,4]\n",
    "#Entire List\n",
    "print(list1)\n",
    "#List[0]\n",
    "print(list1[0])"
   ]
  },
  {
   "cell_type": "markdown",
   "metadata": {},
   "source": [
    "## For Loop\n",
    "#### Syntax:\n",
    "\n",
    "for < variablename> in < seq>:\n",
    "\n",
    "    < statements>"
   ]
  },
  {
   "cell_type": "code",
   "execution_count": 6,
   "metadata": {},
   "outputs": [
    {
     "name": "stdout",
     "output_type": "stream",
     "text": [
      "1 2 3 4 "
     ]
    }
   ],
   "source": [
    "list=[1,2,3,4]\n",
    "for x in list:\n",
    "    print(x,end=\" \")"
   ]
  },
  {
   "cell_type": "markdown",
   "metadata": {},
   "source": [
    "#### LIst example with particular index"
   ]
  },
  {
   "cell_type": "code",
   "execution_count": 38,
   "metadata": {},
   "outputs": [
    {
     "name": "stdout",
     "output_type": "stream",
     "text": [
      "1 2 3 4 5 6 7 \n",
      "5\n",
      "[4, 5, 6]\n",
      "[1, 2, 3]\n",
      "[1, 2, 3, 4, 5, 6, 7]\n",
      "2\n",
      "[7, 6, 5, 4, 3, 2, 1]\n",
      "[7, 5, 3, 1]\n",
      "[4, 3, 2, 1]\n",
      "[1, 3, 5, 7]\n",
      "[1, 4, 7]\n",
      "1 2 3 4 5 6 7 "
     ]
    }
   ],
   "source": [
    "list1=[1,2,3,4,5,6,7]\n",
    "for x in list1:\n",
    "    print(x,end=\" \")\n",
    "print()\n",
    "print(list1[4])\n",
    "print(list1[3:6])\n",
    "print(list1[0:3])\n",
    "print(list1[:7])\n",
    "print(list1[-6])\n",
    "print(list1[::-1])\n",
    "print(list1[::-2])\n",
    "print(list1[-4::-1])\n",
    "print(list1[::2])\n",
    "print(list1[::3])\n",
    "i=0\n",
    "while(i<len(list1)):\n",
    "    print(list1[i],end=\" \")\n",
    "    i=i+1"
   ]
  },
  {
   "cell_type": "markdown",
   "metadata": {},
   "source": [
    "#### List append \n",
    "\n",
    "inserting another value at the end of the required list\n",
    "\n",
    "listname.append(value)\n",
    "#### count(obj)\n",
    "\n",
    "The method returns the count of obj how many times it occurs in list\n",
    "\n",
    "listname.count(obj)"
   ]
  },
  {
   "cell_type": "code",
   "execution_count": 55,
   "metadata": {},
   "outputs": [
    {
     "name": "stdout",
     "output_type": "stream",
     "text": [
      "['a', 'b', 'c', 2]\n",
      "['a', 45, 'c', 2]\n",
      "['a', 45, 2]\n",
      "['a', 45, 2, 1, 2]\n",
      "['a', 45, 2, 34]\n",
      "['a', 45, 2, 34, 45, 3]\n",
      "1\n",
      "['a', 45, 568, 2, 34, 45, 3]\n"
     ]
    }
   ],
   "source": [
    "list=[\"a\",\"b\",\"c\",2]\n",
    "print(list)\n",
    "list[1]=45 #updating\n",
    "print(list)\n",
    "del list[2] #deleting\n",
    "print(list)\n",
    "list1=[1,2]\n",
    "print(list+list1) #concatination of two lists\n",
    "list.append(34)\n",
    "print(list)\n",
    "list.append(45)\n",
    "list.append(3)\n",
    "print(list)\n",
    "print(list.count(3))\n",
    "list.index(3)\n",
    "list.insert(2,568)\n",
    "print(list)"
   ]
  },
  {
   "cell_type": "markdown",
   "metadata": {},
   "source": [
    "#### remove(obj)\n",
    "\n",
    "The remove method removes the passed object from the first occurance from left direction\n",
    "#### reverse()\n",
    "\n",
    "The reverse objects of the list"
   ]
  },
  {
   "cell_type": "code",
   "execution_count": 63,
   "metadata": {},
   "outputs": [
    {
     "name": "stdout",
     "output_type": "stream",
     "text": [
      "['a', 'b', 'c', 2]\n",
      "['a', 'c', 2]\n",
      "[2, 'c', 'a']\n",
      "[28, 34, 65, 89, 90]\n"
     ]
    }
   ],
   "source": [
    "list=[\"a\",\"b\",\"c\",2]\n",
    "print(list)\n",
    "list.remove(\"b\")\n",
    "print(list)\n",
    "list.reverse()\n",
    "print(list)\n",
    "list1=[89,65,34,28,90]\n",
    "list1.sort()\n",
    "print(list1)"
   ]
  },
  {
   "cell_type": "markdown",
   "metadata": {},
   "source": [
    "## Linear Search"
   ]
  },
  {
   "cell_type": "code",
   "execution_count": 68,
   "metadata": {},
   "outputs": [
    {
     "name": "stdout",
     "output_type": "stream",
     "text": [
      "element found\n"
     ]
    }
   ],
   "source": [
    "def linearsearch(a,x):\n",
    "    flag=0\n",
    "    for i in range(len(a)):\n",
    "        if(a[i]==x):\n",
    "            flag=1;\n",
    "            break\n",
    "    if(flag==1):\n",
    "        print(\"element found\")\n",
    "    else:\n",
    "        print(\"element not found\")\n",
    "a=[3,5,2,6,7]\n",
    "linearsearch(a,5)"
   ]
  },
  {
   "cell_type": "code",
   "execution_count": 20,
   "metadata": {},
   "outputs": [
    {
     "name": "stdout",
     "output_type": "stream",
     "text": [
      "index of the target is\n",
      "1\n",
      "index of the target is\n",
      "3\n",
      "count of target number occur in the list\n",
      "2\n"
     ]
    }
   ],
   "source": [
    "def linearsearchDuplicate(a,x):\n",
    "    n=0\n",
    "    for i in range(len(a)):\n",
    "        if(a[i]==x):\n",
    "            print(\"index of the target is\")\n",
    "            print(i)\n",
    "            n=n+1\n",
    "    print(\"count of target number occur in the list\")\n",
    "    print(n)\n",
    "a=[3,5,2,5,6,3,7]\n",
    "linearsearchDuplicate(a,5)"
   ]
  },
  {
   "cell_type": "code",
   "execution_count": 16,
   "metadata": {},
   "outputs": [
    {
     "name": "stdout",
     "output_type": "stream",
     "text": [
      "!! !!!! "
     ]
    }
   ],
   "source": [
    "def linearsearchDuplicate(a,x):\n",
    "\n",
    "    for i in range(len(a)):\n",
    "        if(a[i]==x):\n",
    "            for b in range(i+1):\n",
    "                print(\"!\",end=\"\")\n",
    "            print(end=\" \")\n",
    "\n",
    "a=[3,5,2,5,6,3,7]\n",
    "linearsearchDuplicate(a,5)"
   ]
  },
  {
   "cell_type": "markdown",
   "metadata": {},
   "source": [
    "input: list\n",
    "\n",
    "output: as per the given\n",
    "\n",
    "test cases:- [ ]\n",
    "\n",
    "a list item should be perfect multiple of 3 and 5\n",
    "\n",
    "sum of all the list items which is perfect multiple of 3 and 5"
   ]
  },
  {
   "cell_type": "code",
   "execution_count": 18,
   "metadata": {},
   "outputs": [
    {
     "name": "stdout",
     "output_type": "stream",
     "text": [
      "60\n"
     ]
    }
   ],
   "source": [
    "def sum(a):\n",
    "    sum=0\n",
    "    for i in range(len(a)):\n",
    "        if(a[i]%3==0 and a[i]%5==0):\n",
    "            sum=sum+a[i]\n",
    "    print(sum)\n",
    "a=[15,36,4,56,45]\n",
    "sum(a)"
   ]
  },
  {
   "cell_type": "code",
   "execution_count": 46,
   "metadata": {},
   "outputs": [
    {
     "name": "stdout",
     "output_type": "stream",
     "text": [
      "index of the target is\n",
      "1509738720\n",
      "index of the target is\n",
      "1509738720\n",
      "count of target number occur in the list\n",
      "2\n"
     ]
    }
   ],
   "source": [
    "def linearsearchDuplicate(a,x):\n",
    "    n=0\n",
    "    for i in a:\n",
    "        if(i==x):\n",
    "            print(\"index of the target is\")\n",
    "            print(id(i)) #address of element\n",
    "            n=n+1\n",
    "    print(\"count of target number occur in the list\")\n",
    "    print(n)\n",
    "a=[3,5,2,5,6,3,7]\n",
    "linearsearchDuplicate(a,5)"
   ]
  },
  {
   "cell_type": "markdown",
   "metadata": {},
   "source": [
    "Input: list\n",
    "\n",
    "output: Formatted output\n",
    "\n",
    "[1,2,3,4,5]-- 1 3 8 15 5"
   ]
  },
  {
   "cell_type": "code",
   "execution_count": 37,
   "metadata": {},
   "outputs": [
    {
     "name": "stdout",
     "output_type": "stream",
     "text": [
      "1 3 8 15 5 "
     ]
    }
   ],
   "source": [
    "def formatted(a):\n",
    "    for i in range(len(a)):\n",
    "        if(i==0 or i==len(a)-1):\n",
    "            print(a[i],end=\" \")\n",
    "        else:\n",
    "            print(a[i-1]*a[i+1],end=\" \")\n",
    "a=[1,2,3,4,5]\n",
    "formatted(a)"
   ]
  },
  {
   "cell_type": "markdown",
   "metadata": {},
   "source": [
    "input: list\n",
    "\n",
    "output: formatte\n",
    "\n",
    "first and last items to be printed as it is \n",
    "\n",
    "for the middle items need to check both sides of the numbers are even then print them"
   ]
  },
  {
   "cell_type": "code",
   "execution_count": 44,
   "metadata": {},
   "outputs": [
    {
     "name": "stdout",
     "output_type": "stream",
     "text": [
      "1 3 5 "
     ]
    }
   ],
   "source": [
    "def formatted(a):\n",
    "    for i in range(len(a)):\n",
    "        if(i==0 or i==len(a)-1):\n",
    "            print(a[i],end=\" \")\n",
    "        elif(a[i-1]%2==0 and a[i+1]%2==0):\n",
    "            print(a[i],end=\" \")\n",
    "a=[1,2,3,4,5]\n",
    "formatted(a)"
   ]
  },
  {
   "cell_type": "markdown",
   "metadata": {},
   "source": [
    "input: a number \n",
    "\n",
    "output: list\n",
    "\n",
    "Test case: \n",
    "\n",
    "1456-[1,4,5,6]\n",
    "\n"
   ]
  },
  {
   "cell_type": "code",
   "execution_count": 58,
   "metadata": {},
   "outputs": [
    {
     "name": "stdout",
     "output_type": "stream",
     "text": [
      "[5, 6, 4, 7]\n"
     ]
    }
   ],
   "source": [
    "def f(a):\n",
    "    b=0\n",
    "    list1=[]\n",
    "    while(a!=0):\n",
    "        b=a%10\n",
    "        list1.append(b)\n",
    "        a=a//10\n",
    "    list1.reverse()\n",
    "    print(list1)\n",
    "a=5647\n",
    "f(a)"
   ]
  },
  {
   "cell_type": "markdown",
   "metadata": {},
   "source": [
    "#### list to number conversion\n",
    "\n",
    "1) [1,4,5,6,7]--14567\n",
    "\n",
    "2) [1,4,5,6,7]--46\n",
    "\n",
    "3) 14567--[4,6]\n",
    "\n",
    "4) [1,2,3,4,5]--[1,4,3,16,5]\n",
    "\n",
    "5) [15,19,12,16,4]--[15,34,31,28,4]"
   ]
  },
  {
   "cell_type": "code",
   "execution_count": 61,
   "metadata": {},
   "outputs": [
    {
     "name": "stdout",
     "output_type": "stream",
     "text": [
      "1234\n"
     ]
    }
   ],
   "source": [
    "def number(a):\n",
    "    sum=0\n",
    "    for i in range(len(a)):\n",
    "        sum=sum*10+a[i]\n",
    "    print(sum)\n",
    "a=[1,2,3,4]\n",
    "number(a)"
   ]
  },
  {
   "cell_type": "code",
   "execution_count": 66,
   "metadata": {},
   "outputs": [
    {
     "name": "stdout",
     "output_type": "stream",
     "text": [
      "24\n"
     ]
    }
   ],
   "source": [
    "def evennumber(a):\n",
    "    sum=0\n",
    "    for i in range(len(a)):\n",
    "        if(a[i]%2==0):\n",
    "            sum=sum*10+a[i]\n",
    "    print(sum)\n",
    "a=[1,2,3,4]\n",
    "evennumber(a)"
   ]
  },
  {
   "cell_type": "code",
   "execution_count": 68,
   "metadata": {},
   "outputs": [
    {
     "name": "stdout",
     "output_type": "stream",
     "text": [
      "[6, 4]\n"
     ]
    }
   ],
   "source": [
    "def f(a):\n",
    "    b=0\n",
    "    list1=[]\n",
    "    while(a!=0):\n",
    "        b=a%10\n",
    "        if(b%2==0):\n",
    "            list1.append(b)\n",
    "        a=a//10\n",
    "    list1.reverse()\n",
    "    print(list1)\n",
    "a=5647\n",
    "f(a)"
   ]
  },
  {
   "cell_type": "code",
   "execution_count": 69,
   "metadata": {},
   "outputs": [
    {
     "name": "stdout",
     "output_type": "stream",
     "text": [
      "[1, 4, 3, 16]\n"
     ]
    }
   ],
   "source": [
    "def evennumber(a):\n",
    "    sum=0\n",
    "    for i in range(len(a)):\n",
    "        if(a[i]%2==0):\n",
    "            a[i]=a[i]**2\n",
    "    print(a)\n",
    "a=[1,2,3,4]\n",
    "evennumber(a)"
   ]
  },
  {
   "cell_type": "code",
   "execution_count": 78,
   "metadata": {},
   "outputs": [
    {
     "name": "stdout",
     "output_type": "stream",
     "text": [
      "[1, 3, 5, 7, 5]\n"
     ]
    }
   ],
   "source": [
    "def formatted(a):\n",
    "    b=[]\n",
    "    for i in range(len(a)):\n",
    "        if(i==0 or i==len(a)-1):\n",
    "            b.append(a[i])\n",
    "        else:\n",
    "            b.append(a[i-1]+a[i])\n",
    "    print(b)\n",
    "a=[1,2,3,4,5]\n",
    "formatted(a)"
   ]
  },
  {
   "cell_type": "code",
   "execution_count": null,
   "metadata": {},
   "outputs": [],
   "source": []
  }
 ],
 "metadata": {
  "kernelspec": {
   "display_name": "Python 3",
   "language": "python",
   "name": "python3"
  },
  "language_info": {
   "codemirror_mode": {
    "name": "ipython",
    "version": 3
   },
   "file_extension": ".py",
   "mimetype": "text/x-python",
   "name": "python",
   "nbconvert_exporter": "python",
   "pygments_lexer": "ipython3",
   "version": "3.7.3"
  }
 },
 "nbformat": 4,
 "nbformat_minor": 2
}
