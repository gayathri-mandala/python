{
 "cells": [
  {
   "cell_type": "markdown",
   "metadata": {},
   "source": [
    "## File handiling in python\n",
    "File- doc containing info residing on th permanent storage types ex-pdfs,doc,text,csv files etc\n",
    "\n",
    "File I/O: Input and Output\n",
    "\n",
    "keyboard as input\n",
    "\n",
    "screen as output\n",
    "\n",
    "read/write\n",
    "\n",
    "open()- open the file\n",
    "\n",
    "close()- close the file\n",
    "\n",
    "open(filename,\"mode of the file\")\n",
    "\n",
    "\"r\" -- it opens the file for reading\n",
    "\n",
    "\"w\" -- the mode open the file writing ... if file is not present , it create a new file and write some data into it"
   ]
  },
  {
   "cell_type": "code",
   "execution_count": 16,
   "metadata": {},
   "outputs": [
    {
     "name": "stdout",
     "output_type": "stream",
     "text": [
      "File is created successfully and data is written\n"
     ]
    }
   ],
   "source": [
    "#Function to create a file and write some data\n",
    "def createFile(filename):\n",
    "    f=open(filename,\"w\")\n",
    "    for i in range(10):\n",
    "        f.write(\"This is %d line\\n\"%i)\n",
    "    print(\"File is created successfully and data is written\")\n",
    "    f.close()\n",
    "    return\n",
    "createFile(\"file1.txt\")"
   ]
  },
  {
   "cell_type": "code",
   "execution_count": 17,
   "metadata": {},
   "outputs": [
    {
     "name": "stdout",
     "output_type": "stream",
     "text": [
      "This is 0 line\n",
      "This is 1 line\n",
      "This is 2 line\n",
      "This is 3 line\n",
      "This is 4 line\n",
      "This is 5 line\n",
      "This is 6 line\n",
      "This is 7 line\n",
      "This is 8 line\n",
      "This is 9 line\n",
      "\n"
     ]
    }
   ],
   "source": [
    "#Function for reading the data\n",
    "def readFile(filename):\n",
    "    f=open(filename,\"r\")\n",
    "    if(f.mode==\"r\"):\n",
    "        x=f.read()\n",
    "        print(x)\n",
    "    f.close()\n",
    "    return\n",
    "readFile(\"file1.txt\")"
   ]
  },
  {
   "cell_type": "code",
   "execution_count": 10,
   "metadata": {},
   "outputs": [
    {
     "name": "stdout",
     "output_type": "stream",
     "text": [
      "150\n"
     ]
    }
   ],
   "source": [
    "# Function to count the characters in the file\n",
    "def countCharacter(filename):\n",
    "    f=open(filename,\"r\")\n",
    "    if f.mode ==\"r\":\n",
    "        x=f.read()\n",
    "        lst=list(x)\n",
    "    return len(lst)\n",
    "print(countCharacter(\"file1.txt\"))"
   ]
  },
  {
   "cell_type": "code",
   "execution_count": 20,
   "metadata": {},
   "outputs": [
    {
     "name": "stdout",
     "output_type": "stream",
     "text": [
      "10\n"
     ]
    }
   ],
   "source": [
    "def countCharacter(filename):\n",
    "    count=0\n",
    "    f=open(filename,\"r\")\n",
    "    if f.mode ==\"r\":\n",
    "        x=f.read()\n",
    "        lst=list(x)\n",
    "    for i in range(len(lst)):\n",
    "        if(lst[i].isupper()==True):\n",
    "            count=count+1\n",
    "    return count\n",
    "print(countCharacter(\"file1.txt\"))"
   ]
  },
  {
   "cell_type": "code",
   "execution_count": 22,
   "metadata": {},
   "outputs": [
    {
     "name": "stdout",
     "output_type": "stream",
     "text": [
      "10\n"
     ]
    }
   ],
   "source": [
    "#Function to count of lines in a given list\n",
    "def countlines(filename):\n",
    "    count=0\n",
    "    f=open(filename,\"r\")\n",
    "    if f.mode ==\"r\":\n",
    "        x=f.read()\n",
    "        lst=list(x)\n",
    "    for i in range(len(lst)):\n",
    "        if(lst[i]==\"\\n\"):\n",
    "            count=count+1\n",
    "    return count\n",
    "print(countlines(\"file1.txt\"))"
   ]
  },
  {
   "cell_type": "markdown",
   "metadata": {},
   "source": [
    "^[6-9][0-9]{9}$           -- Indian number validation\n",
    "\n",
    "^[0][6-9][0-9]{9}$        -- Indian number validation\n",
    "\n",
    "^[+][9][1][6-9][0-9]{9}$  -- Indian number validation"
   ]
  },
  {
   "cell_type": "code",
   "execution_count": 15,
   "metadata": {},
   "outputs": [
    {
     "name": "stdout",
     "output_type": "stream",
     "text": [
      "True\n",
      "True\n",
      "True\n"
     ]
    }
   ],
   "source": [
    "import re\n",
    "def phoneNumberValidate(phone):\n",
    "    pattern='^[6-9][0-9]{9}$|^[0][6-9][0-9]{9}$|^[+][9][1][6-9][0-9]{9}$'\n",
    "    phone=str(phone)\n",
    "    if re.match(pattern,phone):\n",
    "        return True\n",
    "    return False\n",
    "print(phoneNumberValidate(\"9440460066\"))\n",
    "print(phoneNumberValidate(\"09440460066\"))\n",
    "print(phoneNumberValidate(\"+919440460066\"))"
   ]
  },
  {
   "cell_type": "code",
   "execution_count": 19,
   "metadata": {},
   "outputs": [
    {
     "name": "stdout",
     "output_type": "stream",
     "text": [
      "True\n"
     ]
    }
   ],
   "source": [
    "# RE -- Validation of Roll Number\n",
    "import re\n",
    "def validateRollNumber(number):\n",
    "    number=str(number)\n",
    "    pattern=\"^[1][5][2][U][1][A][0][1-9][0-6][0-9]$\"\n",
    "    if re.match(pattern,number):\n",
    "        return True\n",
    "    return False\n",
    "print(validateRollNumber(\"152U1A0549\"))"
   ]
  },
  {
   "cell_type": "markdown",
   "metadata": {},
   "source": [
    "** username:  <br>\n",
    "              * Length will be: [6-15]<br>\n",
    "              * No spl chars apart from_<br>\n",
    "              * Should not begin and end with_<br>\n",
    "              * Charecter set : all digits and lower case alphabets<br>"
   ]
  },
  {
   "cell_type": "code",
   "execution_count": 24,
   "metadata": {},
   "outputs": [
    {
     "name": "stdout",
     "output_type": "stream",
     "text": [
      "True\n"
     ]
    }
   ],
   "source": [
    "# Email ID validation\n",
    "import re\n",
    "def validateEmail(email):\n",
    "    email=str(email)\n",
    "    pattern=\"^[0-9a-z][0-9a-z_.]{4,13}[0-9a-z][@][a-z0-9]{3,18}[.][a-z]{2,4}$\"\n",
    "    if re.match(pattern,email):\n",
    "        return True\n",
    "    return False\n",
    "print(validateEmail(\"gayathri.456@gmail.com\"))"
   ]
  },
  {
   "cell_type": "code",
   "execution_count": 27,
   "metadata": {},
   "outputs": [
    {
     "name": "stdout",
     "output_type": "stream",
     "text": [
      "True\n"
     ]
    }
   ],
   "source": [
    "# regular Expression-- password\n",
    "# Parameters : [6-15]\n",
    "# Accept Lower case,uppercae,special symbols(@,$,#,!)\n",
    "import re\n",
    "def validatepassword(password):\n",
    "    password=str(password)\n",
    "    pattern=\"^[a-zA-Z0-9@$#!]{6,15}$\"\n",
    "    if re.match(pattern,password):\n",
    "        return True\n",
    "    return False\n",
    "print(validatepassword(\"gaya@123\"))"
   ]
  },
  {
   "cell_type": "code",
   "execution_count": 30,
   "metadata": {},
   "outputs": [
    {
     "name": "stdout",
     "output_type": "stream",
     "text": [
      "file is created and data of 200 charecters is added\n"
     ]
    }
   ],
   "source": [
    "# Assessment\n",
    "def createFile(filename):\n",
    "    file=open(filename,\"w\")\n",
    "    for i in range(20):\n",
    "        file.write(\"This is %d Line\\n\"%i)\n",
    "    print(\"file is created and data of 200 charecters is added\")\n",
    "    file.close()\n",
    "    return\n",
    "createFile(\"assessment.txt\")"
   ]
  },
  {
   "cell_type": "code",
   "execution_count": 31,
   "metadata": {},
   "outputs": [
    {
     "name": "stdout",
     "output_type": "stream",
     "text": [
      "This is 0 Line\n",
      "This is 1 Line\n",
      "This is 2 Line\n",
      "This is 3 Line\n",
      "This is 4 Line\n",
      "This is 5 Line\n",
      "This is 6 Line\n",
      "This is 7 Line\n",
      "This is 8 Line\n",
      "This is 9 Line\n",
      "This is 10 Line\n",
      "This is 11 Line\n",
      "This is 12 Line\n",
      "This is 13 Line\n",
      "This is 14 Line\n",
      "This is 15 Line\n",
      "This is 16 Line\n",
      "This is 17 Line\n",
      "This is 18 Line\n",
      "This is 19 Line\n",
      "\n"
     ]
    }
   ],
   "source": [
    "def readFile(filename):\n",
    "    file=open(filename,\"r\")\n",
    "    if(file.mode==\"r\"):\n",
    "        x=file.read()\n",
    "        print(x)\n",
    "    file.close()\n",
    "    return\n",
    "readFile(\"assessment.txt\")"
   ]
  },
  {
   "cell_type": "code",
   "execution_count": 32,
   "metadata": {},
   "outputs": [
    {
     "name": "stdout",
     "output_type": "stream",
     "text": [
      "310\n"
     ]
    }
   ],
   "source": [
    "def countCharacter(filename):\n",
    "    file=open(filename,\"r\")\n",
    "    if file.mode ==\"r\":\n",
    "        x=file.read()\n",
    "        lst=list(x)\n",
    "    return len(lst)\n",
    "print(countCharacter(\"assessment.txt\"))"
   ]
  },
  {
   "cell_type": "code",
   "execution_count": 35,
   "metadata": {},
   "outputs": [
    {
     "name": "stdout",
     "output_type": "stream",
     "text": [
      "160\n"
     ]
    }
   ],
   "source": [
    "def countCharacter(filename):\n",
    "    count=0\n",
    "    file=open(filename,\"r\")\n",
    "    if file.mode ==\"r\":\n",
    "        x=file.read()\n",
    "        lst=list(x)\n",
    "    for i in range(len(lst)):\n",
    "        if lst[i].islower()==True:\n",
    "            count=count+1\n",
    "    return count\n",
    "print(countCharacter(\"assessment.txt\"))"
   ]
  },
  {
   "cell_type": "code",
   "execution_count": 36,
   "metadata": {},
   "outputs": [
    {
     "name": "stdout",
     "output_type": "stream",
     "text": [
      "30\n"
     ]
    }
   ],
   "source": [
    "def countdigits(filename):\n",
    "    count=0\n",
    "    file=open(filename,\"r\")\n",
    "    if file.mode ==\"r\":\n",
    "        x=file.read()\n",
    "        lst=list(x)\n",
    "    for i in range(len(lst)):\n",
    "        if lst[i].isnumeric()==True:\n",
    "            count=count+1\n",
    "    return count\n",
    "print(countdigits(\"assessment.txt\"))"
   ]
  },
  {
   "cell_type": "code",
   "execution_count": 43,
   "metadata": {},
   "outputs": [
    {
     "name": "stdout",
     "output_type": "stream",
     "text": [
      "60\n"
     ]
    }
   ],
   "source": [
    "def countSpecial(filename):\n",
    "    count=0\n",
    "    file=open(filename,\"r\")\n",
    "    if file.mode ==\"r\":\n",
    "        x=file.read()\n",
    "        lst=list(x)\n",
    "    for i in range(len(lst)):\n",
    "        if lst[i]==\"@\" or lst[i]==\"&\" or lst[i]==\" \" or lst[i]==\"!\" or lst[i]==\"$\" :\n",
    "            count=count+1\n",
    "    return count\n",
    "print(countSpecial(\"assessment.txt\"))"
   ]
  },
  {
   "cell_type": "code",
   "execution_count": null,
   "metadata": {},
   "outputs": [],
   "source": []
  }
 ],
 "metadata": {
  "kernelspec": {
   "display_name": "Python 3",
   "language": "python",
   "name": "python3"
  },
  "language_info": {
   "codemirror_mode": {
    "name": "ipython",
    "version": 3
   },
   "file_extension": ".py",
   "mimetype": "text/x-python",
   "name": "python",
   "nbconvert_exporter": "python",
   "pygments_lexer": "ipython3",
   "version": "3.7.3"
  }
 },
 "nbformat": 4,
 "nbformat_minor": 2
}
