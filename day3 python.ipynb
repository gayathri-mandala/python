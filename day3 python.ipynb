{
 "cells": [
  {
   "cell_type": "markdown",
   "metadata": {},
   "source": [
    "## Binary Search\n",
    "\n",
    "** This binary search-- sorted list\n",
    "\n",
    "** This binary search-- unique list"
   ]
  },
  {
   "cell_type": "code",
   "execution_count": 5,
   "metadata": {},
   "outputs": [
    {
     "name": "stdout",
     "output_type": "stream",
     "text": [
      "element not found\n"
     ]
    }
   ],
   "source": [
    "def binarySearch(a,x):\n",
    "    low=0\n",
    "    high=len(a)-1\n",
    "    while(low<=high):\n",
    "        mid=(low+high)//2\n",
    "        if(a[mid]==x):\n",
    "            print(\"element found\")\n",
    "            break\n",
    "        elif(x>a[mid]):\n",
    "            low=mid+1\n",
    "        elif(x<a[mid]):\n",
    "            high=mid-1\n",
    "    if(low>high):\n",
    "        print(\"element not found\")\n",
    "a=[1,13,25,67,89,95]\n",
    "binarySearch(a,87)"
   ]
  },
  {
   "cell_type": "markdown",
   "metadata": {},
   "source": [
    "## Sorting Algorithms\n",
    "\n",
    "1) Bubble Sort"
   ]
  },
  {
   "cell_type": "code",
   "execution_count": 9,
   "metadata": {},
   "outputs": [
    {
     "name": "stdout",
     "output_type": "stream",
     "text": [
      "1 3 6 18 19 25 "
     ]
    }
   ],
   "source": [
    "def bubbleSort(a):\n",
    "    for j in range(len(a)-1):\n",
    "        for i in range(len(a)-1):\n",
    "            if(a[i]>a[i+1]):\n",
    "                a[i],a[i+1]=a[i+1],a[i]\n",
    "    for i in range(len(a)):\n",
    "        print(a[i],end=\" \")\n",
    "a=[19,1,25,6,18,3]\n",
    "bubbleSort(a)"
   ]
  },
  {
   "cell_type": "markdown",
   "metadata": {},
   "source": [
    "## Strings\n",
    "\n",
    "a string is a sequence of character\n",
    "\n",
    "The conversion of character to a number is happens with ASCII numbers:\n",
    "\n",
    "A-Z ----- 65-90\n",
    "\n",
    "a-z ----- 97-122\n",
    "\n",
    "0-9 ----- 48-57"
   ]
  },
  {
   "cell_type": "code",
   "execution_count": 73,
   "metadata": {},
   "outputs": [
    {
     "name": "stdout",
     "output_type": "stream",
     "text": [
      "String\n",
      "String\n",
      "   Application test\n",
      "   working\n",
      "   list\n",
      "   python\n",
      "   string\n"
     ]
    }
   ],
   "source": [
    "#creating a string\n",
    "str=\"String\"\n",
    "print(str)\n",
    "str1='String'\n",
    "print(str1)\n",
    "str2=\"\"\"   Application test\n",
    "   working\n",
    "   list\n",
    "   python\n",
    "   string\"\"\"\n",
    "print(str2)"
   ]
  },
  {
   "cell_type": "code",
   "execution_count": 69,
   "metadata": {},
   "outputs": [
    {
     "name": "stdout",
     "output_type": "stream",
     "text": [
      "gayathri\n",
      "str[0]= g\n",
      "str[-1]= i\n",
      "str[1:5]= ayat\n",
      "str[3:]= athri\n",
      "str[:4]= gaya\n",
      "str[1:-2]= ayath\n",
      "str[1::4]= ah\n",
      "str[-2::-4]= ry\n",
      "str[2::-3]= y\n",
      "str[::]= gayathri\n",
      "str[4::-3]= ta\n"
     ]
    }
   ],
   "source": [
    "str=\"gayathri\"\n",
    "print(str)\n",
    "print(\"str[0]=\",str[0])\n",
    "print(\"str[-1]=\",str[-1])\n",
    "print(\"str[1:5]=\",str[1:5])\n",
    "print(\"str[3:]=\",str[3:])\n",
    "print(\"str[:4]=\",str[:4])\n",
    "print(\"str[1:-2]=\",str[1:-2])\n",
    "print(\"str[1::4]=\",str[1::4])\n",
    "print(\"str[-2::-4]=\",str[-2::-4])\n",
    "print(\"str[2::-3]=\",str[2::-3])\n",
    "print(\"str[::]=\",str[::])\n",
    "print(\"str[4::-4]=\",str[4::-4])"
   ]
  },
  {
   "cell_type": "code",
   "execution_count": 33,
   "metadata": {},
   "outputs": [
    {
     "name": "stdout",
     "output_type": "stream",
     "text": [
      "true\n"
     ]
    }
   ],
   "source": [
    "def ispalindrome(a):\n",
    "    if(a==a[::-1]):\n",
    "        print(\"true\")\n",
    "    else:\n",
    "        print(\"false\")\n",
    "a='sos'\n",
    "ispalindrome(a)"
   ]
  },
  {
   "cell_type": "markdown",
   "metadata": {},
   "source": [
    "** count of digits of a number -- string len function"
   ]
  },
  {
   "cell_type": "code",
   "execution_count": 36,
   "metadata": {},
   "outputs": [
    {
     "name": "stdout",
     "output_type": "stream",
     "text": [
      "enter a number156\n",
      "3\n",
      "<class 'str'>\n"
     ]
    }
   ],
   "source": [
    "def counting(a):\n",
    "    return len(a)\n",
    "a=input(\"enter a number\")\n",
    "print(counting(a))\n",
    "print(type(a))"
   ]
  },
  {
   "cell_type": "markdown",
   "metadata": {},
   "source": [
    "## String exam\n",
    "\n",
    "count of upper case character\n",
    "\n",
    "AppLIcation--3"
   ]
  },
  {
   "cell_type": "code",
   "execution_count": 42,
   "metadata": {},
   "outputs": [
    {
     "name": "stdout",
     "output_type": "stream",
     "text": [
      "number of upper case characters:  3\n",
      "number of lower case characters:  3\n",
      "number of digits:  3\n"
     ]
    }
   ],
   "source": [
    "def countofUppercase(str1):\n",
    "    a=0\n",
    "    b=0\n",
    "    c=0\n",
    "    for i in range(len(str1)):\n",
    "        if(ord(str1[i])>=65 and ord(str1[i])<=90):\n",
    "            a=a+1\n",
    "        if(ord(str1[i])>=97 and ord(str1[i])<=122):\n",
    "            b=b+1\n",
    "        if(ord(str1[i])>=48 and ord(str1[i])<=57):\n",
    "            c=c+1\n",
    "    print(\"number of upper case characters: \",a)\n",
    "    print(\"number of lower case characters: \",b)\n",
    "    print(\"number of digits: \",c)\n",
    "a=\"ABCabc123\"\n",
    "countofUppercase(a)"
   ]
  },
  {
   "cell_type": "markdown",
   "metadata": {},
   "source": [
    "print the digits in the string"
   ]
  },
  {
   "cell_type": "code",
   "execution_count": 11,
   "metadata": {},
   "outputs": [
    {
     "name": "stdout",
     "output_type": "stream",
     "text": [
      "4568\n",
      "6945\n"
     ]
    }
   ],
   "source": [
    "def printing(a):\n",
    "    sum=0\n",
    "    for i in range(len(a)):\n",
    "        if(ord(a[i])>=48 and ord(a[i])<=57):\n",
    "            sum=sum*10+int(a[i])\n",
    "    print(sum)\n",
    "a=\"ab45g6i8\"\n",
    "printing(a)\n",
    "b='d6h9dh45'\n",
    "printing(b)"
   ]
  },
  {
   "cell_type": "markdown",
   "metadata": {},
   "source": [
    "you need to add the digits in the given string"
   ]
  },
  {
   "cell_type": "code",
   "execution_count": 8,
   "metadata": {},
   "outputs": [
    {
     "name": "stdout",
     "output_type": "stream",
     "text": [
      "23\n"
     ]
    }
   ],
   "source": [
    "def printing(a):\n",
    "    sum=0\n",
    "    for i in range(len(a)):\n",
    "        if(ord(a[i])>=48 and ord(a[i])<=57):\n",
    "            sum=sum+int(a[i])\n",
    "    print(sum)\n",
    "a=\"ab45g6i8\"\n",
    "printing(a)"
   ]
  },
  {
   "cell_type": "code",
   "execution_count": 17,
   "metadata": {},
   "outputs": [
    {
     "data": {
      "text/plain": [
       "'1'"
      ]
     },
     "execution_count": 17,
     "metadata": {},
     "output_type": "execute_result"
    }
   ],
   "source": [
    "b=49\n",
    "(chr(b))"
   ]
  },
  {
   "cell_type": "markdown",
   "metadata": {},
   "source": [
    "application1889 --- 16\n",
    "\n",
    "Te1591st        --- 0\n",
    "\n",
    "Wor7852king     --- 10"
   ]
  },
  {
   "cell_type": "code",
   "execution_count": 13,
   "metadata": {},
   "outputs": [
    {
     "name": "stdout",
     "output_type": "stream",
     "text": [
      "18\n"
     ]
    }
   ],
   "source": [
    "def printing(a):\n",
    "    sum=0\n",
    "    for i in range(len(a)):\n",
    "        if(ord(a[i])>=48 and ord(a[i])<=57):\n",
    "            if(int(a[i])%2==0):\n",
    "                sum=sum+int(a[i])\n",
    "    print(sum)\n",
    "a=\"ab45g6i8\"\n",
    "printing(a)"
   ]
  },
  {
   "cell_type": "markdown",
   "metadata": {},
   "source": [
    "** convert upper case character to lower\n",
    "\n",
    "** convert lower case to upper"
   ]
  },
  {
   "cell_type": "code",
   "execution_count": 18,
   "metadata": {},
   "outputs": [
    {
     "name": "stdout",
     "output_type": "stream",
     "text": [
      "aPPlIcATIOn\n"
     ]
    }
   ],
   "source": [
    "def converting(a):\n",
    "    for i in range(len(a)):\n",
    "        if(ord(a[i])>=65 and ord(a[i])<=90):\n",
    "            b=(ord(a[i])+32)\n",
    "            print(chr(b),end=\"\")\n",
    "        if(ord(a[i])>=97 and ord(a[i])<=122):\n",
    "            b=(ord(a[i])-32)\n",
    "            print(chr(b),end=\"\")\n",
    "    print()\n",
    "a=\"AppLiCatioN\"\n",
    "converting(a)"
   ]
  },
  {
   "cell_type": "code",
   "execution_count": null,
   "metadata": {},
   "outputs": [],
   "source": []
  }
 ],
 "metadata": {
  "kernelspec": {
   "display_name": "Python 3",
   "language": "python",
   "name": "python3"
  },
  "language_info": {
   "codemirror_mode": {
    "name": "ipython",
    "version": 3
   },
   "file_extension": ".py",
   "mimetype": "text/x-python",
   "name": "python",
   "nbconvert_exporter": "python",
   "pygments_lexer": "ipython3",
   "version": "3.7.3"
  }
 },
 "nbformat": 4,
 "nbformat_minor": 2
}
