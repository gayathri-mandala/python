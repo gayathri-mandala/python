{
 "cells": [
  {
   "cell_type": "markdown",
   "metadata": {},
   "source": [
    "application test working ---- TEST"
   ]
  },
  {
   "cell_type": "code",
   "execution_count": 47,
   "metadata": {},
   "outputs": [
    {
     "name": "stdout",
     "output_type": "stream",
     "text": [
      "TEST"
     ]
    }
   ],
   "source": [
    "def specificWord(a,n):\n",
    "    b=1\n",
    "    for i in range(len(a)):\n",
    "        if(ord(a[i])==32):\n",
    "            b=b+1\n",
    "            if(b==n):\n",
    "                j=i\n",
    "                while(ord(a[j+1])!=32):\n",
    "                    c=ord(a[j+1])-32\n",
    "                    print(chr(c),end=\"\")\n",
    "                    j=j+1\n",
    "a=\"application test working\"\n",
    "specificWord(a,2)"
   ]
  },
  {
   "cell_type": "code",
   "execution_count": 1,
   "metadata": {},
   "outputs": [
    {
     "name": "stdout",
     "output_type": "stream",
     "text": [
      "GAYATHRI\n",
      "gayathri\n"
     ]
    }
   ],
   "source": [
    "str=\"Gayathri\"\n",
    "print(str.upper())\n",
    "print(str.lower())"
   ]
  },
  {
   "cell_type": "markdown",
   "metadata": {},
   "source": [
    "## Boolean Methods\n",
    "\n",
    "islower()-- method returns the output either true or false,if it is true given character is lower case and if not it returns false\n",
    "\n",
    "isupper()-- if it retirns true given character is upper case and if not it returns false\n",
    "\n",
    "isalpha()-- true it means characters are alphabets\n",
    "\n",
    "istittle()\n",
    "\n",
    "isspace()"
   ]
  },
  {
   "cell_type": "code",
   "execution_count": 2,
   "metadata": {},
   "outputs": [
    {
     "name": "stdout",
     "output_type": "stream",
     "text": [
      "False\n",
      "True\n"
     ]
    }
   ],
   "source": [
    "s=\"Python is Easy programming to learn\"\n",
    "sl=\"python\"\n",
    "print(s.islower())\n",
    "print(sl.islower())"
   ]
  },
  {
   "cell_type": "code",
   "execution_count": 4,
   "metadata": {},
   "outputs": [
    {
     "name": "stdout",
     "output_type": "stream",
     "text": [
      "False\n",
      "True\n"
     ]
    }
   ],
   "source": [
    "s=\"Python is Easy programming to learn\"\n",
    "sl=\"PYTHON\"\n",
    "print(s.isupper())\n",
    "print(sl.isupper())"
   ]
  },
  {
   "cell_type": "code",
   "execution_count": 7,
   "metadata": {},
   "outputs": [
    {
     "name": "stdout",
     "output_type": "stream",
     "text": [
      "True\n",
      "False\n"
     ]
    }
   ],
   "source": [
    "s=\"python\"\n",
    "sl=\"PYTHON456\"\n",
    "print(s.isalpha())\n",
    "print(sl.isalpha())"
   ]
  },
  {
   "cell_type": "code",
   "execution_count": 85,
   "metadata": {},
   "outputs": [
    {
     "name": "stdout",
     "output_type": "stream",
     "text": [
      "True\n",
      "True\n"
     ]
    }
   ],
   "source": [
    "s=\"Python@4World\"\n",
    "sl=\"Python\"\n",
    "print(s.istitle())\n",
    "print(sl.istitle())"
   ]
  },
  {
   "cell_type": "code",
   "execution_count": 13,
   "metadata": {},
   "outputs": [
    {
     "name": "stdout",
     "output_type": "stream",
     "text": [
      "False\n",
      "True\n"
     ]
    }
   ],
   "source": [
    "s=\"python programming\"\n",
    "sl=\"    \"\n",
    "print(s.isspace())\n",
    "print(sl.isspace())"
   ]
  },
  {
   "cell_type": "markdown",
   "metadata": {},
   "source": [
    "## String Methods\n",
    "\n",
    "1) join()  : join() method will conncatinate the two strings\n",
    "\n",
    "2)split()  : split() method will split the string at particular character\n",
    "\n",
    "3)replace(): replace() method will replaces the character"
   ]
  },
  {
   "cell_type": "code",
   "execution_count": 14,
   "metadata": {},
   "outputs": [
    {
     "name": "stdout",
     "output_type": "stream",
     "text": [
      "p y t h o n\n"
     ]
    }
   ],
   "source": [
    "str=\"python\"\n",
    "print(\" \".join(str))"
   ]
  },
  {
   "cell_type": "code",
   "execution_count": 19,
   "metadata": {},
   "outputs": [
    {
     "name": "stdout",
     "output_type": "stream",
     "text": [
      "Python,Programming,Easy\n"
     ]
    }
   ],
   "source": [
    "print(\",\".join([\"Python\",\"Programming\",\"Easy\"]))"
   ]
  },
  {
   "cell_type": "code",
   "execution_count": 83,
   "metadata": {},
   "outputs": [
    {
     "name": "stdout",
     "output_type": "stream",
     "text": [
      "['Python', 'Programming', 'is', 'easy', 'to', 'learn']\n",
      "['Python Progr', 'mming is e', 'sy to learn']\n",
      "['Python Programming is easy to learn']\n"
     ]
    }
   ],
   "source": [
    "s=\"Python Programming is easy to learn\"\n",
    "print(s.split())\n",
    "print(s.split(\"a\",2))\n",
    "print(s.split(\",\"))"
   ]
  },
  {
   "cell_type": "code",
   "execution_count": 28,
   "metadata": {},
   "outputs": [
    {
     "name": "stdout",
     "output_type": "stream",
     "text": [
      "['Python', 'Programming', 'is', 'easy', 'to', 'learn']\n",
      "4\n"
     ]
    }
   ],
   "source": [
    "s=\"Python Programming is easy to learn\"\n",
    "lst=s.split()\n",
    "print(lst)\n",
    "print(lst.index(\"to\"))"
   ]
  },
  {
   "cell_type": "code",
   "execution_count": 33,
   "metadata": {},
   "outputs": [
    {
     "name": "stdout",
     "output_type": "stream",
     "text": [
      "Pythabn Prabgramming is easy tab learn\n"
     ]
    }
   ],
   "source": [
    "s=\"Python Programming is easy to learn\"\n",
    "print(s.replace(\"o\",\"ab\"))"
   ]
  },
  {
   "cell_type": "code",
   "execution_count": 34,
   "metadata": {},
   "outputs": [
    {
     "name": "stdout",
     "output_type": "stream",
     "text": [
      "13 letters found\n"
     ]
    }
   ],
   "source": [
    "count=13\n",
    "print(count,\"letters found\")"
   ]
  },
  {
   "cell_type": "markdown",
   "metadata": {},
   "source": [
    "## Python -- Tuples\n",
    " A tuple of seq of set of objects is like list only<br>\n",
    " The difference of list and tuples are, the tuples cannot be changed unlike list <br>\n",
    " List will use square brackets to hold objects<br>\n",
    " Tuples use parentheses to hold objects<br>\n"
   ]
  },
  {
   "cell_type": "code",
   "execution_count": 43,
   "metadata": {},
   "outputs": [
    {
     "name": "stdout",
     "output_type": "stream",
     "text": [
      "t1[0]= python\n",
      "(1, 2, 3, 4)\n",
      "t1[:4]= ('python', 'programming')\n",
      "t1[::-1]= ('45657', '78', 'machine language', 'programming', 'python')\n"
     ]
    }
   ],
   "source": [
    "t1=(\"python\",\"programming\",\"machine language\",\"78\",\"45657\")\n",
    "t2=(1,2,3,4)\n",
    "print(\"t1[0]=\",t1[0])\n",
    "print(t2)\n",
    "print(\"t1[:4]=\",t1[:2])\n",
    "print(\"t1[::-1]=\",t1[::-1])"
   ]
  },
  {
   "cell_type": "markdown",
   "metadata": {},
   "source": [
    "## Tuples Methods\n",
    "\n",
    "1) len(tuple)  :- len of the tuple<br>\n",
    "2) max(tuple)  :- returns the max value of the tuple<br>\n",
    "3) min(tuple)  :- returns the min value of the tuple<br>\n",
    "4) cmp(tuple1,tuple2) :- it returns 1 or -1 "
   ]
  },
  {
   "cell_type": "code",
   "execution_count": 54,
   "metadata": {},
   "outputs": [
    {
     "name": "stdout",
     "output_type": "stream",
     "text": [
      "5\n",
      "48\n",
      "3\n"
     ]
    }
   ],
   "source": [
    "t1=(\"python\",\"programming\",\"machine language\",\"78\",\"45657\")\n",
    "t2=(10,42,3,48,5)\n",
    "t3=(10,42,3,48,5)\n",
    "print(len(t1))\n",
    "print(max(t2))\n",
    "print(min(t2))"
   ]
  },
  {
   "cell_type": "markdown",
   "metadata": {},
   "source": [
    "## Python Dictionary\n",
    "\n",
    "In dictonary each key is seperated with values by colon(:)\n",
    "\n",
    "User data can be seperated from comma operator\n",
    "\n",
    "Example:- \n",
    "\n",
    "user1={'name':'gayathri','age':19}\n",
    "## Methods\n",
    "\n",
    "1) len(dictinary)  :- returns the number keys <dr>\n",
    "2) str(dicobj"
   ]
  },
  {
   "cell_type": "code",
   "execution_count": 71,
   "metadata": {},
   "outputs": [
    {
     "name": "stdout",
     "output_type": "stream",
     "text": [
      "gayathri\n",
      "9618256818\n"
     ]
    }
   ],
   "source": [
    "user1={'name':'gayathri','age':19,'emailid':'gayathri@gmail.com','number':'9618256818'}\n",
    "print(user1['name'])\n",
    "print(user1['number'])"
   ]
  },
  {
   "cell_type": "code",
   "execution_count": 78,
   "metadata": {},
   "outputs": [
    {
     "name": "stdout",
     "output_type": "stream",
     "text": [
      "gayathri@gmail.com\n",
      "gayathri13@gmail.com\n",
      "{'name': 'gayathri', 'age': 19, 'number': '9618256818'}\n"
     ]
    }
   ],
   "source": [
    "user1={'name':'gayathri','age':19,'emailid':'gayathri@gmail.com','number':'9618256818'}\n",
    "print(user1['emailid'])\n",
    "user1['emailid']='gayathri13@gmail.com' #updating\n",
    "print(user1['emailid'])\n",
    "del user1['emailid'] #deleting\n",
    "print(user1)"
   ]
  },
  {
   "cell_type": "code",
   "execution_count": 79,
   "metadata": {},
   "outputs": [
    {
     "name": "stdout",
     "output_type": "stream",
     "text": [
      "4\n"
     ]
    }
   ],
   "source": [
    "user1={'name':'gayathri','age':19,'emailid':'gayathri@gmail.com','number':'9618256818'}\n",
    "print(len(user1))"
   ]
  },
  {
   "cell_type": "code",
   "execution_count": 81,
   "metadata": {},
   "outputs": [
    {
     "name": "stdout",
     "output_type": "stream",
     "text": [
      "{'name': 'gayathri', 'age': 19, 'emailid': 'gayathri@gmail.com', 'number': '9618256818'}\n",
      "{}\n"
     ]
    }
   ],
   "source": [
    "user1={'name':'gayathri','age':19,'emailid':'gayathri@gmail.com','number':'9618256818'}\n",
    "print(user1)\n",
    "user1.clear()\n",
    "print(user1)"
   ]
  },
  {
   "cell_type": "code",
   "execution_count": 82,
   "metadata": {},
   "outputs": [
    {
     "name": "stdout",
     "output_type": "stream",
     "text": [
      "{'name': 'gayathri', 'age': 19, 'emailid': 'gayathri@gmail.com', 'number': '9618256818'}\n"
     ]
    }
   ],
   "source": [
    "user1={'name':'gayathri','age':19,'emailid':'gayathri@gmail.com','number':'9618256818'}\n",
    "user2=user1.copy()\n",
    "print(user2)"
   ]
  },
  {
   "cell_type": "markdown",
   "metadata": {},
   "source": [
    "### Method\tDescription \n",
    "    \n",
    "clear()  :-\t   Removes all the elements from the dictionar y\n",
    "    \n",
    "copy()\t :-    Returns a copy of the dictionary\n",
    "    \n",
    "fromkeys():-   Returns a dictionary with the specified keys and values\n",
    "    \n",
    "get()\t :-    Returns the value of the specified key\n",
    "    \n",
    "items()\t :-    Returns a list containing the a tuple for each key value pair\n",
    "    \n",
    "keys()\t :-    Returns a list containing the dictionary's keys\n",
    "    \n",
    "pop()\t :-    Removes the element with the specified key\n",
    "    \n",
    "popitem():-    Removes the last inserted key-value pair \n",
    "    \n",
    "setdefault():-\tReturns the value of the specified key. If the key does not exist: insert the key, with the specified value \n",
    "    \n",
    "update() :- \tUpdates the dictionary with the specified key-value pairs \n",
    "    \n",
    "values() :-\t  Returns a list of all the values in the dictionary "
   ]
  },
  {
   "cell_type": "markdown",
   "metadata": {},
   "source": [
    "## Contact Application\n",
    "1) add contact\n",
    "\n",
    "2) search for contact\n",
    "\n",
    "3) list of all contacts\n",
    "\n",
    "4) remove contact\n",
    "\n",
    "5) modifing contact"
   ]
  },
  {
   "cell_type": "code",
   "execution_count": 30,
   "metadata": {},
   "outputs": [
    {
     "name": "stdout",
     "output_type": "stream",
     "text": [
      "contact gayathri added\n",
      "contact ram added\n"
     ]
    }
   ],
   "source": [
    "contact={}\n",
    "def addContact(name,phone):\n",
    "    if name not in contact:\n",
    "        contact[name]=phone\n",
    "        print(\"contact %s added\"%name)\n",
    "    else:\n",
    "        print(\"contact %s already exists\"%name)\n",
    "    return\n",
    "addContact(\"gayathri\",9618562435)\n",
    "addContact(\"ram\",9618562435)"
   ]
  },
  {
   "cell_type": "code",
   "execution_count": 31,
   "metadata": {},
   "outputs": [
    {
     "name": "stdout",
     "output_type": "stream",
     "text": [
      "gayathri : 9618562435\n",
      "ram : 9618562435\n"
     ]
    }
   ],
   "source": [
    "def searchContact(name):\n",
    "    if name in contact:\n",
    "        print(name,\":\",contact[name])\n",
    "    else:\n",
    "        print(\"%s doesnot exists\"%name)\n",
    "    return\n",
    "searchContact(\"gayathri\")\n",
    "searchContact(\"ram\")"
   ]
  },
  {
   "cell_type": "code",
   "execution_count": 32,
   "metadata": {},
   "outputs": [
    {
     "name": "stdout",
     "output_type": "stream",
     "text": [
      "2 contacts added successfully\n"
     ]
    }
   ],
   "source": [
    "def importContacts(newContacts):\n",
    "    contact.update(newContacts)\n",
    "    print(len(newContacts.keys()),\"contacts added successfully\")\n",
    "    return\n",
    "newContacts={'bharath':9462388567,'chitti':2244556677}\n",
    "importContacts(newContacts)"
   ]
  },
  {
   "cell_type": "code",
   "execution_count": 33,
   "metadata": {},
   "outputs": [
    {
     "name": "stdout",
     "output_type": "stream",
     "text": [
      "{'gayathri': 9618562435, 'ram': 9618562435, 'bharath': 9462388567, 'chitti': 2244556677}\n"
     ]
    }
   ],
   "source": [
    "print(contact)"
   ]
  },
  {
   "cell_type": "code",
   "execution_count": 34,
   "metadata": {},
   "outputs": [
    {
     "name": "stdout",
     "output_type": "stream",
     "text": [
      "ram deleted from the contact\n"
     ]
    }
   ],
   "source": [
    "def deleteContacts(name):\n",
    "    if name in contact:\n",
    "        del contact[name]\n",
    "        print(\"%s deleted from the contact\"%name)\n",
    "    else:\n",
    "        print(\"the contact doesnt exits\")\n",
    "    return\n",
    "deleteContacts(\"ram\")"
   ]
  },
  {
   "cell_type": "code",
   "execution_count": 35,
   "metadata": {},
   "outputs": [
    {
     "name": "stdout",
     "output_type": "stream",
     "text": [
      "{'gayathri': 9618562435, 'bharath': 9462388567, 'chitti': 2244556677}\n"
     ]
    }
   ],
   "source": [
    "print(contact)"
   ]
  },
  {
   "cell_type": "code",
   "execution_count": 38,
   "metadata": {},
   "outputs": [
    {
     "name": "stdout",
     "output_type": "stream",
     "text": [
      "gayathri : updated with new phone number\n",
      "ram not exists in the contacts\n"
     ]
    }
   ],
   "source": [
    "def updateContact(name,phone):\n",
    "    if name in contact:\n",
    "        contact[name]=phone\n",
    "        print(name,\": updated with new phone number\")\n",
    "    else:\n",
    "        print(name,\"not exists in the contacts\")\n",
    "    return\n",
    "updateContact(\"gayathri\",2566987415)\n",
    "updateContact(\"ram\",2566484125)"
   ]
  },
  {
   "cell_type": "markdown",
   "metadata": {},
   "source": [
    "## Packages and modules\n",
    "1) package : collection of modules(Python file.py)\n",
    "\n",
    "2) Sub packages : its part of main package\n",
    "\n",
    "3) module : A single Python file cointains set of operations(Functions)\n",
    "\n",
    "*#package --> Sub package  --> Modules --> Functions*\n",
    "\n",
    "*#standard Lib -- Math*"
   ]
  },
  {
   "cell_type": "code",
   "execution_count": 39,
   "metadata": {},
   "outputs": [
    {
     "data": {
      "text/plain": [
       "123"
      ]
     },
     "execution_count": 39,
     "metadata": {},
     "output_type": "execute_result"
    }
   ],
   "source": [
    "from math import floor as f1\n",
    "f1(123.456)"
   ]
  },
  {
   "cell_type": "code",
   "execution_count": 40,
   "metadata": {},
   "outputs": [
    {
     "data": {
      "text/plain": [
       "120"
      ]
     },
     "execution_count": 40,
     "metadata": {},
     "output_type": "execute_result"
    }
   ],
   "source": [
    "from math import factorial as fact\n",
    "fact(5)"
   ]
  },
  {
   "cell_type": "code",
   "execution_count": 41,
   "metadata": {},
   "outputs": [
    {
     "data": {
      "text/plain": [
       "120"
      ]
     },
     "execution_count": 41,
     "metadata": {},
     "output_type": "execute_result"
    }
   ],
   "source": [
    "import math\n",
    "math.factorial(5)"
   ]
  },
  {
   "cell_type": "code",
   "execution_count": 42,
   "metadata": {},
   "outputs": [
    {
     "data": {
      "text/plain": [
       "78"
      ]
     },
     "execution_count": 42,
     "metadata": {},
     "output_type": "execute_result"
    }
   ],
   "source": [
    "import math\n",
    "math.floor(78.65)"
   ]
  },
  {
   "cell_type": "code",
   "execution_count": 45,
   "metadata": {},
   "outputs": [
    {
     "name": "stdout",
     "output_type": "stream",
     "text": [
      "1 2\n"
     ]
    }
   ],
   "source": [
    "b={'a':1,'c':2}\n",
    "print(b['a'],b['c'])\n"
   ]
  },
  {
   "cell_type": "code",
   "execution_count": 46,
   "metadata": {},
   "outputs": [
    {
     "name": "stdout",
     "output_type": "stream",
     "text": [
      "76 113 83 153 39 29 166 57 122 190 "
     ]
    }
   ],
   "source": [
    "import random\n",
    "def generateRandomNumbers(n,lb,ub):\n",
    "    for i in range(0,n):\n",
    "        print(random.randint(lb,ub),end=\" \")\n",
    "    return\n",
    "generateRandomNumbers(10,11,200)"
   ]
  },
  {
   "cell_type": "code",
   "execution_count": 57,
   "metadata": {},
   "outputs": [
    {
     "name": "stdout",
     "output_type": "stream",
     "text": [
      "11 12 13 14 15 16 17 18 19 20 "
     ]
    }
   ],
   "source": [
    "import math\n",
    "def generateNumbers(n,lb,ub):\n",
    "    cnt=0\n",
    "    for i in range(lb,ub):\n",
    "        if(cnt!=n):\n",
    "            print(math.floor(i),end=\" \")\n",
    "            cnt=cnt+1\n",
    "    return\n",
    "generateNumbers(10,11,200)"
   ]
  },
  {
   "cell_type": "code",
   "execution_count": 58,
   "metadata": {},
   "outputs": [
    {
     "name": "stdout",
     "output_type": "stream",
     "text": [
      "Help on built-in module math:\n",
      "\n",
      "NAME\n",
      "    math\n",
      "\n",
      "DESCRIPTION\n",
      "    This module is always available.  It provides access to the\n",
      "    mathematical functions defined by the C standard.\n",
      "\n",
      "FUNCTIONS\n",
      "    acos(x, /)\n",
      "        Return the arc cosine (measured in radians) of x.\n",
      "    \n",
      "    acosh(x, /)\n",
      "        Return the inverse hyperbolic cosine of x.\n",
      "    \n",
      "    asin(x, /)\n",
      "        Return the arc sine (measured in radians) of x.\n",
      "    \n",
      "    asinh(x, /)\n",
      "        Return the inverse hyperbolic sine of x.\n",
      "    \n",
      "    atan(x, /)\n",
      "        Return the arc tangent (measured in radians) of x.\n",
      "    \n",
      "    atan2(y, x, /)\n",
      "        Return the arc tangent (measured in radians) of y/x.\n",
      "        \n",
      "        Unlike atan(y/x), the signs of both x and y are considered.\n",
      "    \n",
      "    atanh(x, /)\n",
      "        Return the inverse hyperbolic tangent of x.\n",
      "    \n",
      "    ceil(x, /)\n",
      "        Return the ceiling of x as an Integral.\n",
      "        \n",
      "        This is the smallest integer >= x.\n",
      "    \n",
      "    copysign(x, y, /)\n",
      "        Return a float with the magnitude (absolute value) of x but the sign of y.\n",
      "        \n",
      "        On platforms that support signed zeros, copysign(1.0, -0.0)\n",
      "        returns -1.0.\n",
      "    \n",
      "    cos(x, /)\n",
      "        Return the cosine of x (measured in radians).\n",
      "    \n",
      "    cosh(x, /)\n",
      "        Return the hyperbolic cosine of x.\n",
      "    \n",
      "    degrees(x, /)\n",
      "        Convert angle x from radians to degrees.\n",
      "    \n",
      "    erf(x, /)\n",
      "        Error function at x.\n",
      "    \n",
      "    erfc(x, /)\n",
      "        Complementary error function at x.\n",
      "    \n",
      "    exp(x, /)\n",
      "        Return e raised to the power of x.\n",
      "    \n",
      "    expm1(x, /)\n",
      "        Return exp(x)-1.\n",
      "        \n",
      "        This function avoids the loss of precision involved in the direct evaluation of exp(x)-1 for small x.\n",
      "    \n",
      "    fabs(x, /)\n",
      "        Return the absolute value of the float x.\n",
      "    \n",
      "    factorial(x, /)\n",
      "        Find x!.\n",
      "        \n",
      "        Raise a ValueError if x is negative or non-integral.\n",
      "    \n",
      "    floor(x, /)\n",
      "        Return the floor of x as an Integral.\n",
      "        \n",
      "        This is the largest integer <= x.\n",
      "    \n",
      "    fmod(x, y, /)\n",
      "        Return fmod(x, y), according to platform C.\n",
      "        \n",
      "        x % y may differ.\n",
      "    \n",
      "    frexp(x, /)\n",
      "        Return the mantissa and exponent of x, as pair (m, e).\n",
      "        \n",
      "        m is a float and e is an int, such that x = m * 2.**e.\n",
      "        If x is 0, m and e are both 0.  Else 0.5 <= abs(m) < 1.0.\n",
      "    \n",
      "    fsum(seq, /)\n",
      "        Return an accurate floating point sum of values in the iterable seq.\n",
      "        \n",
      "        Assumes IEEE-754 floating point arithmetic.\n",
      "    \n",
      "    gamma(x, /)\n",
      "        Gamma function at x.\n",
      "    \n",
      "    gcd(x, y, /)\n",
      "        greatest common divisor of x and y\n",
      "    \n",
      "    hypot(x, y, /)\n",
      "        Return the Euclidean distance, sqrt(x*x + y*y).\n",
      "    \n",
      "    isclose(a, b, *, rel_tol=1e-09, abs_tol=0.0)\n",
      "        Determine whether two floating point numbers are close in value.\n",
      "        \n",
      "          rel_tol\n",
      "            maximum difference for being considered \"close\", relative to the\n",
      "            magnitude of the input values\n",
      "          abs_tol\n",
      "            maximum difference for being considered \"close\", regardless of the\n",
      "            magnitude of the input values\n",
      "        \n",
      "        Return True if a is close in value to b, and False otherwise.\n",
      "        \n",
      "        For the values to be considered close, the difference between them\n",
      "        must be smaller than at least one of the tolerances.\n",
      "        \n",
      "        -inf, inf and NaN behave similarly to the IEEE 754 Standard.  That\n",
      "        is, NaN is not close to anything, even itself.  inf and -inf are\n",
      "        only close to themselves.\n",
      "    \n",
      "    isfinite(x, /)\n",
      "        Return True if x is neither an infinity nor a NaN, and False otherwise.\n",
      "    \n",
      "    isinf(x, /)\n",
      "        Return True if x is a positive or negative infinity, and False otherwise.\n",
      "    \n",
      "    isnan(x, /)\n",
      "        Return True if x is a NaN (not a number), and False otherwise.\n",
      "    \n",
      "    ldexp(x, i, /)\n",
      "        Return x * (2**i).\n",
      "        \n",
      "        This is essentially the inverse of frexp().\n",
      "    \n",
      "    lgamma(x, /)\n",
      "        Natural logarithm of absolute value of Gamma function at x.\n",
      "    \n",
      "    log(...)\n",
      "        log(x, [base=math.e])\n",
      "        Return the logarithm of x to the given base.\n",
      "        \n",
      "        If the base not specified, returns the natural logarithm (base e) of x.\n",
      "    \n",
      "    log10(x, /)\n",
      "        Return the base 10 logarithm of x.\n",
      "    \n",
      "    log1p(x, /)\n",
      "        Return the natural logarithm of 1+x (base e).\n",
      "        \n",
      "        The result is computed in a way which is accurate for x near zero.\n",
      "    \n",
      "    log2(x, /)\n",
      "        Return the base 2 logarithm of x.\n",
      "    \n",
      "    modf(x, /)\n",
      "        Return the fractional and integer parts of x.\n",
      "        \n",
      "        Both results carry the sign of x and are floats.\n",
      "    \n",
      "    pow(x, y, /)\n",
      "        Return x**y (x to the power of y).\n",
      "    \n",
      "    radians(x, /)\n",
      "        Convert angle x from degrees to radians.\n",
      "    \n",
      "    remainder(x, y, /)\n",
      "        Difference between x and the closest integer multiple of y.\n",
      "        \n",
      "        Return x - n*y where n*y is the closest integer multiple of y.\n",
      "        In the case where x is exactly halfway between two multiples of\n",
      "        y, the nearest even value of n is used. The result is always exact.\n",
      "    \n",
      "    sin(x, /)\n",
      "        Return the sine of x (measured in radians).\n",
      "    \n",
      "    sinh(x, /)\n",
      "        Return the hyperbolic sine of x.\n",
      "    \n",
      "    sqrt(x, /)\n",
      "        Return the square root of x.\n",
      "    \n",
      "    tan(x, /)\n",
      "        Return the tangent of x (measured in radians).\n",
      "    \n",
      "    tanh(x, /)\n",
      "        Return the hyperbolic tangent of x.\n",
      "    \n",
      "    trunc(x, /)\n",
      "        Truncates the Real x to the nearest Integral toward 0.\n",
      "        \n",
      "        Uses the __trunc__ magic method.\n",
      "\n",
      "DATA\n",
      "    e = 2.718281828459045\n",
      "    inf = inf\n",
      "    nan = nan\n",
      "    pi = 3.141592653589793\n",
      "    tau = 6.283185307179586\n",
      "\n",
      "FILE\n",
      "    (built-in)\n",
      "\n",
      "\n"
     ]
    }
   ],
   "source": [
    "help(\"math\")"
   ]
  },
  {
   "cell_type": "code",
   "execution_count": 68,
   "metadata": {},
   "outputs": [
    {
     "name": "stdout",
     "output_type": "stream",
     "text": [
      "23\n",
      "25852016738884976640000\n",
      "-0.061905293994420546\n",
      "-0.9980820279793963\n",
      "3.8496946004768278\n",
      "3.850599988148268\n",
      "50.03349410501915\n"
     ]
    }
   ],
   "source": [
    "import math\n",
    "def functions(x):\n",
    "    print(math.floor(x))\n",
    "    y=math.floor(x)\n",
    "    print(math.factorial(y))\n",
    "    print(math.cos(x))\n",
    "    print(math.sin(x))\n",
    "    print(math.acosh(x))\n",
    "    print(math.asinh(x))\n",
    "    print(math.lgamma(x))\n",
    "    return\n",
    "functions(23.5)"
   ]
  },
  {
   "cell_type": "code",
   "execution_count": null,
   "metadata": {},
   "outputs": [],
   "source": []
  }
 ],
 "metadata": {
  "kernelspec": {
   "display_name": "Python 3",
   "language": "python",
   "name": "python3"
  },
  "language_info": {
   "codemirror_mode": {
    "name": "ipython",
    "version": 3
   },
   "file_extension": ".py",
   "mimetype": "text/x-python",
   "name": "python",
   "nbconvert_exporter": "python",
   "pygments_lexer": "ipython3",
   "version": "3.7.3"
  }
 },
 "nbformat": 4,
 "nbformat_minor": 2
}
